{
  "nbformat": 4,
  "nbformat_minor": 0,
  "metadata": {
    "colab": {
      "provenance": []
    },
    "kernelspec": {
      "name": "python3",
      "display_name": "Python 3"
    },
    "language_info": {
      "name": "python"
    }
  },
  "cells": [
    {
      "cell_type": "markdown",
      "source": [
        "# **Functions (def) & Lambda Functions**\n"
      ],
      "metadata": {
        "id": "WPNr1W47Fd_N"
      }
    },
    {
      "cell_type": "markdown",
      "source": [
        "1.\tWrite a function wish(name) that returns \"Hello, Good Morning <name>!\"."
      ],
      "metadata": {
        "id": "Ybox0f4-GNXB"
      }
    },
    {
      "cell_type": "code",
      "execution_count": 4,
      "metadata": {
        "colab": {
          "base_uri": "https://localhost:8080/"
        },
        "id": "34up1VnhFXok",
        "outputId": "1a1ec00e-104b-42ab-8e72-589ad9ebdc67"
      },
      "outputs": [
        {
          "output_type": "stream",
          "name": "stdout",
          "text": [
            "Enter your name:Madhuri\n",
            "Hello,Good Morning Madhuri !\n"
          ]
        }
      ],
      "source": [
        "name=input(\"Enter your name:\")\n",
        "def wish(name):\n",
        "  print(\"Hello,Good Morning\",name,\"!\")\n",
        "wish(name)"
      ]
    },
    {
      "cell_type": "markdown",
      "source": [
        "2.\tWrite a function cube(n) that returns the cube of a number (n³)."
      ],
      "metadata": {
        "id": "7dIWRiicHMrL"
      }
    },
    {
      "cell_type": "code",
      "source": [
        "n=int(input(\"Enter a number:\"))\n",
        "def cube(n):\n",
        "  return n*n*n\n",
        "cube(n)"
      ],
      "metadata": {
        "colab": {
          "base_uri": "https://localhost:8080/"
        },
        "id": "mRxut6sVHKK8",
        "outputId": "b0d8720c-9f99-4d75-a384-c4cd0a448561"
      },
      "execution_count": 5,
      "outputs": [
        {
          "name": "stdout",
          "output_type": "stream",
          "text": [
            "Enter a number:5\n"
          ]
        },
        {
          "output_type": "execute_result",
          "data": {
            "text/plain": [
              "125"
            ]
          },
          "metadata": {},
          "execution_count": 5
        }
      ]
    },
    {
      "cell_type": "markdown",
      "source": [
        "3.\tWrite a function check_even(n) that returns True if the number is even, else False."
      ],
      "metadata": {
        "id": "PfEnyw6cHosg"
      }
    },
    {
      "cell_type": "code",
      "source": [
        "n=int(input(\"Enter a Number:\"))\n",
        "def check_even(n):\n",
        "  if n%2==0:\n",
        "    return True\n",
        "  return False\n",
        "check_even(n)"
      ],
      "metadata": {
        "colab": {
          "base_uri": "https://localhost:8080/"
        },
        "id": "4Ec6B-iaHda5",
        "outputId": "a4c8481d-b17a-4a59-856c-0077537ef5eb"
      },
      "execution_count": 7,
      "outputs": [
        {
          "name": "stdout",
          "output_type": "stream",
          "text": [
            "Enter a Number:1000\n"
          ]
        },
        {
          "output_type": "execute_result",
          "data": {
            "text/plain": [
              "True"
            ]
          },
          "metadata": {},
          "execution_count": 7
        }
      ]
    },
    {
      "cell_type": "markdown",
      "source": [
        "**Alternative ** simple code To check whether the number is even or odd"
      ],
      "metadata": {
        "id": "xtid21hDHf2z"
      }
    },
    {
      "cell_type": "code",
      "source": [
        "n=int(input(\"Enter a number:\"))\n",
        "def check_even(n):\n",
        "  print([True,False][n & 1])\n",
        "check_even(n)\n"
      ],
      "metadata": {
        "colab": {
          "base_uri": "https://localhost:8080/"
        },
        "id": "aRaIfs8kINr6",
        "outputId": "1ba5ba7f-f730-4e7d-8bc9-be988d177d2c"
      },
      "execution_count": 11,
      "outputs": [
        {
          "output_type": "stream",
          "name": "stdout",
          "text": [
            "Enter a number:3\n",
            "False\n"
          ]
        }
      ]
    },
    {
      "cell_type": "markdown",
      "source": [
        "4.\tWrite a function greatest_of_two(a, b) that returns the larger of two numbers."
      ],
      "metadata": {
        "id": "7WTTamJSKFjD"
      }
    },
    {
      "cell_type": "code",
      "source": [
        "a=int(input(\"Enter the first Number:\"))\n",
        "b=int(input(\"Enter the second Number:\"))\n",
        "def greatest_of_two(a,b):\n",
        "  if a>b:\n",
        "    return a\n",
        "  return b\n",
        "greatest_of_two(a,b)"
      ],
      "metadata": {
        "colab": {
          "base_uri": "https://localhost:8080/"
        },
        "id": "PZs3J6qVJQ2y",
        "outputId": "ad997247-632b-4152-d737-c695ce34bff5"
      },
      "execution_count": 14,
      "outputs": [
        {
          "name": "stdout",
          "output_type": "stream",
          "text": [
            "Enter the first Number:26\n",
            "Enter the second Number:29\n"
          ]
        },
        {
          "output_type": "execute_result",
          "data": {
            "text/plain": [
              "29"
            ]
          },
          "metadata": {},
          "execution_count": 14
        }
      ]
    },
    {
      "cell_type": "markdown",
      "source": [
        "5.\tWrite a function count_letters(s) that returns the number of characters in a string."
      ],
      "metadata": {
        "id": "V6JW4N7YKpuy"
      }
    },
    {
      "cell_type": "code",
      "source": [
        "s=input(\"Enter a string:\")\n",
        "def count_letters(s):\n",
        "  return len(s)\n",
        "count_letters(s)"
      ],
      "metadata": {
        "colab": {
          "base_uri": "https://localhost:8080/"
        },
        "id": "hfdF8rmsKd83",
        "outputId": "10b6b6aa-1d11-4342-fdd8-e5338e1a0082"
      },
      "execution_count": 15,
      "outputs": [
        {
          "name": "stdout",
          "output_type": "stream",
          "text": [
            "Enter a string:Siva Reddy\n"
          ]
        },
        {
          "output_type": "execute_result",
          "data": {
            "text/plain": [
              "10"
            ]
          },
          "metadata": {},
          "execution_count": 15
        }
      ]
    },
    {
      "cell_type": "markdown",
      "source": [
        "6.\tWrite a function power(value, exp=2) that returns the number raised to the power exp. (Default exponent = 2)"
      ],
      "metadata": {
        "id": "Jovp0mXwLIox"
      }
    },
    {
      "cell_type": "code",
      "source": [
        "value=int(input(\"Enter a number:\"))\n",
        "exp=int(input(\"Enter the power:\"))\n",
        "def power(value,exp):\n",
        "  return pow(value,exp)\n",
        "power(value,exp)"
      ],
      "metadata": {
        "colab": {
          "base_uri": "https://localhost:8080/"
        },
        "id": "mP8j52EeK4FN",
        "outputId": "87946a61-a0cd-44f8-fd16-3ab6b0d2ed7f"
      },
      "execution_count": 17,
      "outputs": [
        {
          "name": "stdout",
          "output_type": "stream",
          "text": [
            "Enter a number:4\n",
            "Enter the power:3\n"
          ]
        },
        {
          "output_type": "execute_result",
          "data": {
            "text/plain": [
              "64"
            ]
          },
          "metadata": {},
          "execution_count": 17
        }
      ]
    },
    {
      "cell_type": "markdown",
      "source": [
        "7.\tWrite a function swap(a, b) that returns the two values swapped as a tuple."
      ],
      "metadata": {
        "id": "Dm7GbxI2LsJ-"
      }
    },
    {
      "cell_type": "code",
      "source": [
        "a=100\n",
        "b=500\n",
        "def swap(a,b):\n",
        "  temp=a\n",
        "  a=b\n",
        "  b=temp\n",
        "  return a,b\n",
        "a,b=swap(a,b)\n",
        "print(\"a=\",a)\n",
        "print(\"b=\",b)"
      ],
      "metadata": {
        "colab": {
          "base_uri": "https://localhost:8080/"
        },
        "id": "EHXvoPwwLerL",
        "outputId": "6e8ff0c1-c713-470d-9c79-b0480055181b"
      },
      "execution_count": 19,
      "outputs": [
        {
          "output_type": "stream",
          "name": "stdout",
          "text": [
            "a= 500\n",
            "b= 100\n"
          ]
        }
      ]
    },
    {
      "cell_type": "markdown",
      "source": [
        "8.\tWrite a function add_sub(a, b) that returns both sum and difference of two numbers."
      ],
      "metadata": {
        "id": "uGXTo_4UNMDr"
      }
    },
    {
      "cell_type": "code",
      "source": [
        "def add_sub(a,b):\n",
        "  sum_result=a+b\n",
        "  diff_result=a-b\n",
        "  return sum_result,diff_result\n",
        "a=int(input(\"Enter the first number:\"))\n",
        "b=int(input(\"Enter the second number:\"))\n",
        "sum,diff=add_sub(a,b)\n",
        "print(\"Sum=\",sum)\n",
        "print(\"Difference=\",diff)"
      ],
      "metadata": {
        "colab": {
          "base_uri": "https://localhost:8080/"
        },
        "id": "z7Cx1HLqMc1T",
        "outputId": "f165b158-6736-4887-8a2c-67db241f9ae0"
      },
      "execution_count": 20,
      "outputs": [
        {
          "output_type": "stream",
          "name": "stdout",
          "text": [
            "Enter the first number:87\n",
            "Enter the second number:24\n",
            "Sum= 111\n",
            "Difference= 63\n"
          ]
        }
      ]
    },
    {
      "cell_type": "markdown",
      "source": [
        "9.\tWrite a function circle_stats(radius) that returns the area and circumference as a tuple."
      ],
      "metadata": {
        "id": "gfcXCtaAOduS"
      }
    },
    {
      "cell_type": "code",
      "source": [
        "def circle_stats(radius):\n",
        "  area=3.14*radius*radius\n",
        "  circumference=2*3.14*radius\n",
        "  return area,circumference\n",
        "radius=int(input(\"Enter the radius:\"))\n",
        "circle_stats(radius)"
      ],
      "metadata": {
        "colab": {
          "base_uri": "https://localhost:8080/"
        },
        "id": "X3IWkfNbOWAw",
        "outputId": "4dbc1720-3eb6-4566-e64e-0153f16de0bd"
      },
      "execution_count": 21,
      "outputs": [
        {
          "name": "stdout",
          "output_type": "stream",
          "text": [
            "Enter the radius:5\n"
          ]
        },
        {
          "output_type": "execute_result",
          "data": {
            "text/plain": [
              "(78.5, 31.400000000000002)"
            ]
          },
          "metadata": {},
          "execution_count": 21
        }
      ]
    },
    {
      "cell_type": "markdown",
      "source": [
        "10.\tWrite a function min_max_sum(nums) that returns the minimum, maximum, and sum of a list."
      ],
      "metadata": {
        "id": "yXk4sZ9IPa0K"
      }
    },
    {
      "cell_type": "code",
      "source": [],
      "metadata": {
        "id": "HmQQ3aRWQSUZ"
      },
      "execution_count": 33,
      "outputs": []
    },
    {
      "cell_type": "markdown",
      "source": [
        "11.\tWrite a function concat(*parts) that joins multiple strings together with spaces."
      ],
      "metadata": {
        "id": "7135jJ83R8Xi"
      }
    },
    {
      "cell_type": "code",
      "source": [
        "def concat(*parts):\n",
        "    return \" \".join(parts)\n",
        "result = concat(\"Hello\", \"world!\", \"This\", \"is\", \"Python\")\n",
        "print(result)\n"
      ],
      "metadata": {
        "colab": {
          "base_uri": "https://localhost:8080/"
        },
        "id": "aWk4JngtRuYu",
        "outputId": "de508756-8254-44bc-ea44-e64ca5e675ab"
      },
      "execution_count": 1,
      "outputs": [
        {
          "output_type": "stream",
          "name": "stdout",
          "text": [
            "Hello world! This is Python\n"
          ]
        }
      ]
    },
    {
      "cell_type": "markdown",
      "source": [
        "12.\tWrite a function format_name(first, last=\"\") that returns \"Last, First\" if last name is provided, else \"First\"."
      ],
      "metadata": {
        "id": "SnI9gq1Zp_PA"
      }
    },
    {
      "cell_type": "code",
      "source": [
        "def format_name(first, last=\"\"):\n",
        "    if last:\n",
        "        return f\"{last}, {first}\"\n",
        "    else:\n",
        "        return first\n",
        "print(format_name(\"John\", \"Doe\"))\n",
        "print(format_name(\"Alice\"))\n"
      ],
      "metadata": {
        "colab": {
          "base_uri": "https://localhost:8080/"
        },
        "id": "L7CDkUVxp5YN",
        "outputId": "1392ff80-f544-4893-9a0c-4899e93db3be"
      },
      "execution_count": 2,
      "outputs": [
        {
          "output_type": "stream",
          "name": "stdout",
          "text": [
            "Doe, John\n",
            "Alice\n"
          ]
        }
      ]
    },
    {
      "cell_type": "markdown",
      "source": [
        "13.\tWrite a function greet_user(first, last) that returns a message like \"Welcome, First Last!\"."
      ],
      "metadata": {
        "id": "loOKT4Ctq-VJ"
      }
    },
    {
      "cell_type": "code",
      "source": [
        "def greet_user(first, last):\n",
        "    return f\"Welcome, {first} {last}!\"\n",
        "print(greet_user(\"John\", \"Doe\"))\n",
        "print(greet_user(\"Alice\", \"Smith\"))"
      ],
      "metadata": {
        "colab": {
          "base_uri": "https://localhost:8080/"
        },
        "id": "DujCHdYrqSAO",
        "outputId": "59847ca1-852a-4157-c882-95d45713c96f"
      },
      "execution_count": 3,
      "outputs": [
        {
          "output_type": "stream",
          "name": "stdout",
          "text": [
            "Welcome, John Doe!\n",
            "Welcome, Alice Smith!\n"
          ]
        }
      ]
    },
    {
      "cell_type": "markdown",
      "source": [
        "# **Lambda Functions**"
      ],
      "metadata": {
        "id": "4wpR3PbLrDJu"
      }
    },
    {
      "cell_type": "markdown",
      "source": [
        "14.\tWrite a lambda function to add two numbers."
      ],
      "metadata": {
        "id": "ukiLOYgArHg2"
      }
    },
    {
      "cell_type": "code",
      "source": [
        "add = lambda a, b: a + b\n",
        "print(add(5, 7))\n",
        "print(add(10, 25))\n"
      ],
      "metadata": {
        "colab": {
          "base_uri": "https://localhost:8080/"
        },
        "id": "76y25KSAq9NT",
        "outputId": "4b3267e7-274e-4a97-ab4f-34348794a8f5"
      },
      "execution_count": 4,
      "outputs": [
        {
          "output_type": "stream",
          "name": "stdout",
          "text": [
            "12\n",
            "35\n"
          ]
        }
      ]
    },
    {
      "cell_type": "markdown",
      "source": [
        "15.\tWrite a lambda function mult = lambda *args: that returns the product of all arguments."
      ],
      "metadata": {
        "id": "vM2jdOcerlD1"
      }
    },
    {
      "cell_type": "code",
      "source": [
        "mult = lambda *args: 1 if not args else args[0] * mult(*args[1:])\n",
        "print(mult(2, 3, 4))\n",
        "print(mult(5, 6))\n",
        "print(mult(7))\n",
        "print(mult())\n"
      ],
      "metadata": {
        "colab": {
          "base_uri": "https://localhost:8080/"
        },
        "id": "tT7BHx9PrjrA",
        "outputId": "dfdab389-92e9-4813-9574-cc27c958f443"
      },
      "execution_count": 5,
      "outputs": [
        {
          "output_type": "stream",
          "name": "stdout",
          "text": [
            "24\n",
            "30\n",
            "7\n",
            "1\n"
          ]
        }
      ]
    },
    {
      "cell_type": "markdown",
      "source": [
        "16.\tWrite a one-line lambda expression to flatten a list of pairs like [(a,b), (c,d)] into [a, b, c, d]."
      ],
      "metadata": {
        "id": "L1TBBvAqsEhP"
      }
    },
    {
      "cell_type": "code",
      "source": [
        "flatten = lambda list_of_pairs: [item for pair in list_of_pairs for item in pair]\n",
        "list_of_pairs = [(1, 2), (3, 4), (5, 6)]\n",
        "flattened_list = flatten(list_of_pairs)\n",
        "print(flattened_list)\n",
        "\n",
        "list_of_pairs_2 = [('a', 'b'), ('c', 'd')]\n",
        "flattened_list_2 = flatten(list_of_pairs_2)\n",
        "print(flattened_list_2)"
      ],
      "metadata": {
        "colab": {
          "base_uri": "https://localhost:8080/"
        },
        "id": "N3TX3W2rsACQ",
        "outputId": "d6e01c2f-76d5-4586-f95c-b64198155f74"
      },
      "execution_count": 7,
      "outputs": [
        {
          "output_type": "stream",
          "name": "stdout",
          "text": [
            "[1, 2, 3, 4, 5, 6]\n",
            "['a', 'b', 'c', 'd']\n"
          ]
        }
      ]
    },
    {
      "cell_type": "markdown",
      "source": [
        "22.\tWrite a function make_multiplier(m) that returns a new function which multiplies input values by m."
      ],
      "metadata": {
        "id": "bB5Fy7gnsv12"
      }
    },
    {
      "cell_type": "code",
      "source": [
        "def make_multiplier(m):\n",
        "  def multiplier(x):\n",
        "    return x * m\n",
        "  return multiplier\n",
        "multiply_by_5 = make_multiplier(5)\n",
        "print(multiply_by_5(10))\n",
        "\n",
        "multiply_by_3 = make_multiplier(3)\n",
        "print(multiply_by_3(7))"
      ],
      "metadata": {
        "colab": {
          "base_uri": "https://localhost:8080/"
        },
        "id": "CvL5gn6nsgs7",
        "outputId": "3da438c4-73d1-4ef3-d373-e7026430f618"
      },
      "execution_count": 9,
      "outputs": [
        {
          "output_type": "stream",
          "name": "stdout",
          "text": [
            "50\n",
            "21\n"
          ]
        }
      ]
    },
    {
      "cell_type": "markdown",
      "source": [
        "24.\tWrite a function convert_to_fahrenheit(celsius_list) using map and a lambda.\n",
        "Formula: F = C * 9/5 + 32\n"
      ],
      "metadata": {
        "id": "9z1XQZhPs6mg"
      }
    },
    {
      "cell_type": "code",
      "source": [
        "def convert_to_fahrenheit(celsius_list):\n",
        "  fahrenheit_list = list(map(lambda celsius: (celsius * 9/5) + 32, celsius_list))\n",
        "  return fahrenheit_list\n",
        "celsius_temperatures = [0, 10, 25, 100]\n",
        "fahrenheit_temperatures = convert_to_fahrenheit(celsius_temperatures)\n",
        "print(f\"Celsius temperatures: {celsius_temperatures}\")\n",
        "print(f\"Fahrenheit temperatures: {fahrenheit_temperatures}\")"
      ],
      "metadata": {
        "colab": {
          "base_uri": "https://localhost:8080/"
        },
        "id": "KuoL39Lws4D5",
        "outputId": "b84f545a-c21f-4e5a-8afe-f302676588c2"
      },
      "execution_count": 12,
      "outputs": [
        {
          "output_type": "stream",
          "name": "stdout",
          "text": [
            "Celsius temperatures: [0, 10, 25, 100]\n",
            "Fahrenheit temperatures: [32.0, 50.0, 77.0, 212.0]\n"
          ]
        }
      ]
    },
    {
      "cell_type": "markdown",
      "source": [
        "27.\tWrite a function variadic_sum(*args, **kwargs) that sums all positional arguments and multiplies by a scale factor if provided."
      ],
      "metadata": {
        "id": "mN44PG5mtRSZ"
      }
    },
    {
      "cell_type": "markdown",
      "metadata": {
        "id": "fb3a92f7"
      },
      "source": [
        "27. Write a function `variadic_sum(*args, **kwargs)` that sums all positional arguments and multiplies by a scale factor if provided."
      ]
    },
    {
      "cell_type": "code",
      "metadata": {
        "colab": {
          "base_uri": "https://localhost:8080/"
        },
        "id": "b8e20a05",
        "outputId": "669816b8-dd79-4378-e992-42bc95672ee4"
      },
      "source": [
        "def variadic_sum(*args, **kwargs):\n",
        "  total_sum = sum(args)\n",
        "  scale = kwargs.get('scale', 1)\n",
        "  return total_sum * scale\n",
        "print(variadic_sum(1, 2, 3, 4))\n",
        "print(variadic_sum(1, 2, 3, 4, scale=2))\n",
        "print(variadic_sum(10, 20, 30, scale=0.5))"
      ],
      "execution_count": 14,
      "outputs": [
        {
          "output_type": "stream",
          "name": "stdout",
          "text": [
            "10\n",
            "20\n",
            "30.0\n"
          ]
        }
      ]
    },
    {
      "cell_type": "markdown",
      "metadata": {
        "id": "bf47608e"
      },
      "source": [
        "28. Write a function `sort_by_length(strings)` that sorts a list of strings by their length using a lambda as key."
      ]
    },
    {
      "cell_type": "code",
      "metadata": {
        "colab": {
          "base_uri": "https://localhost:8080/"
        },
        "id": "a918f5a9",
        "outputId": "ad5a0103-841d-4c78-e8c7-6fd520959f7e"
      },
      "source": [
        "def sort_by_length(strings):\n",
        "  return sorted(strings, key=lambda s: len(s))\n",
        "string_list = [\"apple\", \"banana\", \"cherry\", \"date\"]\n",
        "sorted_list = sort_by_length(string_list)\n",
        "print(f\"Original list: {string_list}\")\n",
        "print(f\"Sorted list by length: {sorted_list}\")\n",
        "\n",
        "string_list_2 = [\"cat\", \"dog\", \"elephant\", \"fox\"]\n",
        "sorted_list_2 = sort_by_length(string_list_2)\n",
        "print(f\"Original list: {string_list_2}\")\n",
        "print(f\"Sorted list by length: {sorted_list_2}\")"
      ],
      "execution_count": 15,
      "outputs": [
        {
          "output_type": "stream",
          "name": "stdout",
          "text": [
            "Original list: ['apple', 'banana', 'cherry', 'date']\n",
            "Sorted list by length: ['date', 'apple', 'banana', 'cherry']\n",
            "Original list: ['cat', 'dog', 'elephant', 'fox']\n",
            "Sorted list by length: ['cat', 'dog', 'fox', 'elephant']\n"
          ]
        }
      ]
    },
    {
      "cell_type": "markdown",
      "source": [
        "# **List Comprehensions**\n",
        "\n"
      ],
      "metadata": {
        "id": "7mVNkETatoag"
      }
    },
    {
      "cell_type": "markdown",
      "source": [
        "29. Create [1,2,3,4] → list of their squares."
      ],
      "metadata": {
        "id": "AwoCDFAcuCPY"
      }
    },
    {
      "cell_type": "code",
      "source": [
        "numbers = [1, 2, 3, 4]\n",
        "squares = [x**2 for x in numbers]\n",
        "print(squares)\n"
      ],
      "metadata": {
        "colab": {
          "base_uri": "https://localhost:8080/"
        },
        "id": "7wjpEeQzs5vP",
        "outputId": "bdf3e758-966d-4d7d-d4a0-cfe0cf1bdeaf"
      },
      "execution_count": 16,
      "outputs": [
        {
          "output_type": "stream",
          "name": "stdout",
          "text": [
            "[1, 4, 9, 16]\n"
          ]
        }
      ]
    },
    {
      "cell_type": "markdown",
      "source": [
        "30.\tCreate ['a','b','c'] → list of their uppercase versions."
      ],
      "metadata": {
        "id": "hjuqK3r0uMm9"
      }
    },
    {
      "cell_type": "code",
      "source": [
        "letters=['a','b','c']\n",
        "uppercase_letters=[letter.upper() for letter in letters]\n",
        "print(uppercase_letters)"
      ],
      "metadata": {
        "colab": {
          "base_uri": "https://localhost:8080/"
        },
        "id": "WC4J6qOhuK-n",
        "outputId": "40e47f4c-890f-4bb3-b2c6-85074f15b12d"
      },
      "execution_count": 17,
      "outputs": [
        {
          "output_type": "stream",
          "name": "stdout",
          "text": [
            "['A', 'B', 'C']\n"
          ]
        }
      ]
    },
    {
      "cell_type": "markdown",
      "source": [
        "31.\tMake a list of even numbers from 1 to 20."
      ],
      "metadata": {
        "id": "s1PgIdMmuqwx"
      }
    },
    {
      "cell_type": "code",
      "source": [
        "even_numbers=[x for x in range(1,21) if x%2==0]\n",
        "print(even_numbers)"
      ],
      "metadata": {
        "colab": {
          "base_uri": "https://localhost:8080/"
        },
        "id": "gM3vf6AtujQ1",
        "outputId": "2e3c5f5a-fc07-436f-c4d5-c2b2fc23bd13"
      },
      "execution_count": 18,
      "outputs": [
        {
          "output_type": "stream",
          "name": "stdout",
          "text": [
            "[2, 4, 6, 8, 10, 12, 14, 16, 18, 20]\n"
          ]
        }
      ]
    },
    {
      "cell_type": "markdown",
      "source": [
        "32.\tGiven words = ['apple', 'bee', 'cat'], create [(word, len(word)) for word in words]."
      ],
      "metadata": {
        "id": "5mMeakFcvJpe"
      }
    },
    {
      "cell_type": "code",
      "source": [
        "words=[\"apple\",\"bee\",\"cat\"]\n",
        "result=[(word,len(word)) for word in words]\n",
        "print(result)"
      ],
      "metadata": {
        "colab": {
          "base_uri": "https://localhost:8080/"
        },
        "id": "yys6WzXJu9Xz",
        "outputId": "0efafd86-b259-4f79-baf1-bc9a97b9b170"
      },
      "execution_count": 19,
      "outputs": [
        {
          "output_type": "stream",
          "name": "stdout",
          "text": [
            "[('apple', 5), ('bee', 3), ('cat', 3)]\n"
          ]
        }
      ]
    },
    {
      "cell_type": "markdown",
      "source": [
        "33.\tFlatten [[1,2], [3,4], [5]] → [1,2,3,4,5]."
      ],
      "metadata": {
        "id": "ZpdeyQQ_vgRe"
      }
    },
    {
      "cell_type": "code",
      "source": [
        "nested_list=[[1,2], [3,4], [5]]\n",
        "flattened_list=[item for sublist in nested_list for item in sublist]\n",
        "print(flattened_list)"
      ],
      "metadata": {
        "colab": {
          "base_uri": "https://localhost:8080/"
        },
        "id": "fKa8IjWavaVl",
        "outputId": "344c9963-d12a-4ab5-964b-eda522a43d99"
      },
      "execution_count": 20,
      "outputs": [
        {
          "output_type": "stream",
          "name": "stdout",
          "text": [
            "[1, 2, 3, 4, 5]\n"
          ]
        }
      ]
    },
    {
      "cell_type": "markdown",
      "source": [
        "34.\tFrom nums = [0,1,2,3], create a list of 'even' or 'odd' strings."
      ],
      "metadata": {
        "id": "UB8cZKZCv8Xm"
      }
    },
    {
      "cell_type": "code",
      "source": [
        "nums = [0, 1, 2, 3]\n",
        "even_odd = ['even' if x % 2 == 0 else 'odd' for x in nums]\n",
        "print(even_odd)"
      ],
      "metadata": {
        "colab": {
          "base_uri": "https://localhost:8080/"
        },
        "id": "U23nWxWrvyrP",
        "outputId": "4f70ec72-edd5-45f6-afe2-49e1f5c3101a"
      },
      "execution_count": 21,
      "outputs": [
        {
          "output_type": "stream",
          "name": "stdout",
          "text": [
            "['even', 'odd', 'even', 'odd']\n"
          ]
        }
      ]
    },
    {
      "cell_type": "markdown",
      "source": [
        "36.\tFrom range(1,50), select numbers divisible by both 2 and 3."
      ],
      "metadata": {
        "id": "lvDURxqnwgXd"
      }
    },
    {
      "cell_type": "code",
      "source": [
        "numbers = [x for x in range(1, 50) if x % 2 == 0 and x % 3 == 0]\n",
        "print(numbers)\n"
      ],
      "metadata": {
        "colab": {
          "base_uri": "https://localhost:8080/"
        },
        "id": "LCUvrvlwwFd-",
        "outputId": "e491c9df-9154-41fc-858f-e30e8f371a07"
      },
      "execution_count": 22,
      "outputs": [
        {
          "output_type": "stream",
          "name": "stdout",
          "text": [
            "[6, 12, 18, 24, 30, 36, 42, 48]\n"
          ]
        }
      ]
    },
    {
      "cell_type": "markdown",
      "source": [
        "37.\tCreate coordinate pairs (i, j) where i and j go from 0 to 2."
      ],
      "metadata": {
        "id": "LQnDluRtwsSf"
      }
    },
    {
      "cell_type": "code",
      "source": [
        "coordinates = [(i, j) for i in range(3) for j in range(3)]\n",
        "print(coordinates)\n"
      ],
      "metadata": {
        "colab": {
          "base_uri": "https://localhost:8080/"
        },
        "id": "_Wn9we6LwoWz",
        "outputId": "3e9e1cdc-ea76-404e-9a0b-b8dd2702c4ef"
      },
      "execution_count": 23,
      "outputs": [
        {
          "output_type": "stream",
          "name": "stdout",
          "text": [
            "[(0, 0), (0, 1), (0, 2), (1, 0), (1, 1), (1, 2), (2, 0), (2, 1), (2, 2)]\n"
          ]
        }
      ]
    },
    {
      "cell_type": "markdown",
      "source": [
        "38.\tFrom ['a b','c d e'], produce a flat list of all words."
      ],
      "metadata": {
        "id": "lPPWaDIwxBXv"
      }
    },
    {
      "cell_type": "code",
      "source": [
        "sentences = ['a b', 'c d e']\n",
        "words = [word for sentence in sentences for word in sentence.split()]\n",
        "print(words)\n"
      ],
      "metadata": {
        "colab": {
          "base_uri": "https://localhost:8080/"
        },
        "id": "dL_QPErKw3rH",
        "outputId": "88048d12-fce3-4fce-d198-b5ee29df0677"
      },
      "execution_count": 24,
      "outputs": [
        {
          "output_type": "stream",
          "name": "stdout",
          "text": [
            "['a', 'b', 'c', 'd', 'e']\n"
          ]
        }
      ]
    },
    {
      "cell_type": "markdown",
      "source": [
        "39.\tGiven students = [{'name':'A','score':80}, {'name':'B','score':60}], Create a list of names of students with score ≥ 75."
      ],
      "metadata": {
        "id": "hproijv0xSnY"
      }
    },
    {
      "cell_type": "code",
      "source": [
        "students = [{'name':'A','score':80}, {'name':'B','score':60}]\n",
        "high_scorers = [student['name'] for student in students if student['score'] >= 75]\n",
        "print(high_scorers)"
      ],
      "metadata": {
        "colab": {
          "base_uri": "https://localhost:8080/"
        },
        "id": "hC4QsWSzxGFj",
        "outputId": "c8a04664-0a20-45b2-cca8-8c185a8cf435"
      },
      "execution_count": 25,
      "outputs": [
        {
          "output_type": "stream",
          "name": "stdout",
          "text": [
            "['A']\n"
          ]
        }
      ]
    },
    {
      "cell_type": "markdown",
      "source": [
        "40.\tBuild a list of dictionaries like {'n': n, 'square': n*n} for numbers 1 to 10."
      ],
      "metadata": {
        "id": "wAqiZuubxkcW"
      }
    },
    {
      "cell_type": "code",
      "source": [
        "numbers = [{'n': n, 'square': n*n} for n in range(1, 11)]\n",
        "print(numbers)\n"
      ],
      "metadata": {
        "colab": {
          "base_uri": "https://localhost:8080/"
        },
        "id": "WWN65i_bxY0D",
        "outputId": "90215386-d1d7-4d97-c72c-4f2f2ca3c220"
      },
      "execution_count": 26,
      "outputs": [
        {
          "output_type": "stream",
          "name": "stdout",
          "text": [
            "[{'n': 1, 'square': 1}, {'n': 2, 'square': 4}, {'n': 3, 'square': 9}, {'n': 4, 'square': 16}, {'n': 5, 'square': 25}, {'n': 6, 'square': 36}, {'n': 7, 'square': 49}, {'n': 8, 'square': 64}, {'n': 9, 'square': 81}, {'n': 10, 'square': 100}]\n"
          ]
        }
      ]
    },
    {
      "cell_type": "markdown",
      "source": [
        "41.\tMerge two lists element-wise into tuples, but include only pairs where both elements are truthy.\n"
      ],
      "metadata": {
        "id": "XH5_Jtx1x998"
      }
    },
    {
      "cell_type": "code",
      "source": [
        "list1 = [1, 0, 3, 4]\n",
        "list2 = [5, 6, 0, 8]\n",
        "\n",
        "merged = [(a, b) for a, b in zip(list1, list2) if a and b]\n",
        "print(merged)\n"
      ],
      "metadata": {
        "colab": {
          "base_uri": "https://localhost:8080/"
        },
        "id": "UP0x41Vyxs88",
        "outputId": "76fc6c4f-fbf2-433c-bd72-8b6e754d150b"
      },
      "execution_count": 27,
      "outputs": [
        {
          "output_type": "stream",
          "name": "stdout",
          "text": [
            "[(1, 5), (4, 8)]\n"
          ]
        }
      ]
    },
    {
      "cell_type": "markdown",
      "source": [
        "42.\tCreate a comprehension to transpose a matrix (swap rows ↔ columns)."
      ],
      "metadata": {
        "id": "9TZiWjBSyOOn"
      }
    },
    {
      "cell_type": "code",
      "source": [
        "matrix = [[1, 2, 3], [4, 5, 6], [7, 8, 9]]\n",
        "transpose = [[row[i] for row in matrix] for i in range(len(matrix[0]))]\n",
        "print(transpose)\n"
      ],
      "metadata": {
        "colab": {
          "base_uri": "https://localhost:8080/"
        },
        "id": "BT0gzFxayL70",
        "outputId": "afb2c3b6-a8b6-4337-e00c-f86dd9f71e0b"
      },
      "execution_count": 28,
      "outputs": [
        {
          "output_type": "stream",
          "name": "stdout",
          "text": [
            "[[1, 4, 7], [2, 5, 8], [3, 6, 9]]\n"
          ]
        }
      ]
    },
    {
      "cell_type": "markdown",
      "source": [
        "43.\tFlatten a 3-level nested list [[[1,2],[3]],[[4]]] into a single flat list."
      ],
      "metadata": {
        "id": "WBXKzQ9kyjHA"
      }
    },
    {
      "cell_type": "code",
      "source": [
        "nested = [[[1,2],[3]],[[4]]]\n",
        "flat = [x for sublist1 in nested for sublist2 in sublist1 for x in sublist2]\n",
        "print(flat)"
      ],
      "metadata": {
        "colab": {
          "base_uri": "https://localhost:8080/"
        },
        "id": "J9PrZtxcyWz5",
        "outputId": "8cfddfbb-af3c-4aba-dc26-e7b8397178a1"
      },
      "execution_count": 29,
      "outputs": [
        {
          "output_type": "stream",
          "name": "stdout",
          "text": [
            "[1, 2, 3, 4]\n"
          ]
        }
      ]
    },
    {
      "cell_type": "markdown",
      "source": [
        "44.\tWrite a comprehension that keeps only unique items from a list while preserving order."
      ],
      "metadata": {
        "id": "CkH09LNTy2VH"
      }
    },
    {
      "cell_type": "code",
      "source": [
        "lst = [1, 2, 2, 3, 1, 4]\n",
        "seen = set()\n",
        "unique = [x for x in lst if not (x in seen or seen.add(x))]\n",
        "print(unique)\n"
      ],
      "metadata": {
        "colab": {
          "base_uri": "https://localhost:8080/"
        },
        "id": "6OxV3m-tymHj",
        "outputId": "0595938a-cb37-485d-cf24-46356c1bb534"
      },
      "execution_count": 30,
      "outputs": [
        {
          "output_type": "stream",
          "name": "stdout",
          "text": [
            "[1, 2, 3, 4]\n"
          ]
        }
      ]
    },
    {
      "cell_type": "markdown",
      "source": [
        "45.\tFind all indices (positions) where a given number appears in a list."
      ],
      "metadata": {
        "id": "aBGTKYiiy7SY"
      }
    },
    {
      "cell_type": "code",
      "source": [
        "nums = [1, 3, 7, 3, 2, 3]\n",
        "target = 3\n",
        "indices = [i for i, x in enumerate(nums) if x == target]\n",
        "print(indices)"
      ],
      "metadata": {
        "colab": {
          "base_uri": "https://localhost:8080/"
        },
        "id": "RuSCb38gy6Rl",
        "outputId": "ea3c1b9b-557a-4ef0-cbdb-c20fdb94e52f"
      },
      "execution_count": 31,
      "outputs": [
        {
          "output_type": "stream",
          "name": "stdout",
          "text": [
            "[1, 3, 5]\n"
          ]
        }
      ]
    },
    {
      "cell_type": "markdown",
      "source": [
        "46.\tGenerate all palindromic numbers (as strings) between 1 and 999."
      ],
      "metadata": {
        "id": "8oHIICqazLRu"
      }
    },
    {
      "cell_type": "code",
      "source": [
        "palindromes = [str(n) for n in range(1, 1000) if str(n) == str(n)[::-1]]\n",
        "print(palindromes)\n"
      ],
      "metadata": {
        "colab": {
          "base_uri": "https://localhost:8080/"
        },
        "id": "BpagDzfIzEg3",
        "outputId": "2115c96a-22f9-41cd-c6e0-0533862617b7"
      },
      "execution_count": 32,
      "outputs": [
        {
          "output_type": "stream",
          "name": "stdout",
          "text": [
            "['1', '2', '3', '4', '5', '6', '7', '8', '9', '11', '22', '33', '44', '55', '66', '77', '88', '99', '101', '111', '121', '131', '141', '151', '161', '171', '181', '191', '202', '212', '222', '232', '242', '252', '262', '272', '282', '292', '303', '313', '323', '333', '343', '353', '363', '373', '383', '393', '404', '414', '424', '434', '444', '454', '464', '474', '484', '494', '505', '515', '525', '535', '545', '555', '565', '575', '585', '595', '606', '616', '626', '636', '646', '656', '666', '676', '686', '696', '707', '717', '727', '737', '747', '757', '767', '777', '787', '797', '808', '818', '828', '838', '848', '858', '868', '878', '888', '898', '909', '919', '929', '939', '949', '959', '969', '979', '989', '999']\n"
          ]
        }
      ]
    },
    {
      "cell_type": "markdown",
      "source": [
        "47.\tConvert a dictionary like {'a':[1,2], 'b':[3]} into a list of (key, value) pairs."
      ],
      "metadata": {
        "id": "8xKqeHdyzb1c"
      }
    },
    {
      "cell_type": "code",
      "source": [
        "d = {'a':[1,2], 'b':[3]}\n",
        "pairs = [(k, v) for k, vals in d.items() for v in vals]\n",
        "print(pairs)"
      ],
      "metadata": {
        "colab": {
          "base_uri": "https://localhost:8080/"
        },
        "id": "jCrqif7PzQ66",
        "outputId": "d168fbaa-bbe4-4039-e8a4-398595715f0b"
      },
      "execution_count": 33,
      "outputs": [
        {
          "output_type": "stream",
          "name": "stdout",
          "text": [
            "[('a', 1), ('a', 2), ('b', 3)]\n"
          ]
        }
      ]
    },
    {
      "cell_type": "code",
      "source": [],
      "metadata": {
        "id": "t4aHQJTIzn6m"
      },
      "execution_count": null,
      "outputs": []
    }
  ]
}